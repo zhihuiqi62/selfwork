{
 "cells": [
  {
   "cell_type": "code",
   "execution_count": 2,
   "id": "c41d876d",
   "metadata": {},
   "outputs": [
    {
     "name": "stderr",
     "output_type": "stream",
     "text": [
      "INFO: Showing help with the command 'dump_bin.py dump_all -- --help'.\n",
      "\n",
      "NAME\n",
      "    dump_bin.py dump_all\n",
      "\n",
      "SYNOPSIS\n",
      "    dump_bin.py dump_all COMMAND | VALUE | --data_path=DATA_PATH --qlib_dir=QLIB_DIR <flags>\n",
      "\n",
      "ARGUMENTS\n",
      "    DATA_PATH\n",
      "        Type: str\n",
      "    QLIB_DIR\n",
      "        Type: str\n",
      "\n",
      "FLAGS\n",
      "    -b, --backup_dir=BACKUP_DIR\n",
      "        Type: Optional[str]\n",
      "        Default: None\n",
      "    --freq=FREQ\n",
      "        Type: str\n",
      "        Default: 'day'\n",
      "    -m, --max_workers=MAX_WORKERS\n",
      "        Type: int\n",
      "        Default: 16\n",
      "    -d, --date_field_name=DATE_FIELD_NAME\n",
      "        Type: str\n",
      "        Default: 'date'\n",
      "    --file_suffix=FILE_SUFFIX\n",
      "        Type: str\n",
      "        Default: '.csv'\n",
      "    -s, --symbol_field_name=SYMBOL_FIELD_NAME\n",
      "        Type: str\n",
      "        Default: 'symbol'\n",
      "    -e, --exclude_fields=EXCLUDE_FIELDS\n",
      "        Type: str\n",
      "        Default: ''\n",
      "    -i, --include_fields=INCLUDE_FIELDS\n",
      "        Type: str\n",
      "        Default: ''\n",
      "    -l, --limit_nums=LIMIT_NUMS\n",
      "        Type: Optional[int]\n",
      "        Default: None\n",
      "\n",
      "COMMANDS\n",
      "    COMMAND is one of the following:\n",
      "\n",
      "     get_datetime_index\n",
      "\n",
      "VALUES\n",
      "    VALUE is one of the following:\n",
      "\n",
      "     ALL_MODE\n",
      "\n",
      "     CALENDARS_DIR_NAME\n",
      "\n",
      "     DAILY_FORMAT\n",
      "\n",
      "     DUMP_FILE_SUFFIX\n",
      "\n",
      "     FEATURES_DIR_NAME\n",
      "\n",
      "     HIGH_FREQ_FORMAT\n",
      "\n",
      "     INSTRUMENTS_DIR_NAME\n",
      "\n",
      "     INSTRUMENTS_END_FIELD\n",
      "\n",
      "     INSTRUMENTS_FILE_NAME\n",
      "\n",
      "     INSTRUMENTS_SEP\n",
      "\n",
      "     INSTRUMENTS_START_FIELD\n",
      "\n",
      "     UPDATE_MODE\n"
     ]
    }
   ],
   "source": [
    "!python scripts/dump_bin.py dump_all --help"
   ]
  },
  {
   "cell_type": "code",
   "execution_count": 12,
   "id": "86f59036",
   "metadata": {},
   "outputs": [
    {
     "name": "stdout",
     "output_type": "stream",
     "text": [
      "分割完成！文件已保存到：C:\\Users\\Administrator\\Desktop\\selfwork\\split_stock_data\n"
     ]
    }
   ],
   "source": [
    "import os\n",
    "import pandas as pd\n",
    "\n",
    "# 原始文件路径\n",
    "input_file = r\"C:\\Users\\Administrator\\Desktop\\selfwork\\random_stock_data.csv\"\n",
    "# 目标文件夹路径\n",
    "output_dir = r\"C:\\Users\\Administrator\\Desktop\\selfwork\\split_stock_data\"\n",
    "\n",
    "# 创建目标文件夹（如果不存在）\n",
    "os.makedirs(output_dir, exist_ok=True)\n",
    "\n",
    "# 读取原始 CSV 文件\n",
    "df = pd.read_csv(input_file)\n",
    "\n",
    "# 按股票代码分组并保存为多个 CSV 文件\n",
    "for symbol, group in df.groupby(\"symbol\"):\n",
    "    output_file = os.path.join(output_dir, f\"{symbol}.csv\")\n",
    "    group.to_csv(output_file, index=False)\n",
    "\n",
    "print(f\"分割完成！文件已保存到：{output_dir}\")\n"
   ]
  },
  {
   "cell_type": "code",
   "execution_count": 13,
   "id": "d8561fee",
   "metadata": {},
   "outputs": [
    {
     "name": "stderr",
     "output_type": "stream",
     "text": [
      "2025-08-11 16:47:48.708 | INFO     | __main__:_get_all_date:307 - start get all date......\n",
      "\n",
      "  0%|          | 0/3 [00:00<?, ?it/s]\n",
      " 33%|███▎      | 1/3 [00:01<00:02,  1.11s/it]\n",
      "100%|██████████| 3/3 [00:01<00:00,  2.43it/s]\n",
      "2025-08-11 16:47:49.944 | INFO     | __main__:_get_all_date:326 - end of get all date.\n",
      "\n",
      "2025-08-11 16:47:49.944 | INFO     | __main__:_dump_calendars:329 - start dump calendars......\n",
      "2025-08-11 16:47:49.946 | INFO     | __main__:_dump_calendars:332 - end of calendars dump.\n",
      "\n",
      "2025-08-11 16:47:49.946 | INFO     | __main__:_dump_instruments:335 - start dump instruments......\n",
      "2025-08-11 16:47:49.947 | INFO     | __main__:_dump_instruments:337 - end of instruments dump.\n",
      "\n",
      "2025-08-11 16:47:49.947 | INFO     | __main__:_dump_features:340 - start dump features......\n",
      "\n",
      "  0%|          | 0/3 [00:00<?, ?it/s]\n",
      " 33%|███▎      | 1/3 [00:01<00:02,  1.12s/it]\n",
      "100%|██████████| 3/3 [00:01<00:00,  2.40it/s]\n",
      "2025-08-11 16:47:51.196 | INFO     | __main__:_dump_features:347 - end of features dump.\n",
      "\n"
     ]
    }
   ],
   "source": [
    "!python C:\\Users\\Administrator\\Desktop\\selfwork\\scripts\\dump_bin.py dump_all \\\n",
    "    --data_path \"C:\\Users\\Administrator\\Desktop\\selfwork\\split_stock_data\" \\\n",
    "    --qlib_dir \"C:\\Users\\Administrator\\Desktop\\selfwork\\qlib_data\\random_data\" \\\n",
    "    --include_fields \"open,close,high,low,volume,factor\" \\\n",
    "    --symbol_field_name \"symbol\" \\\n",
    "    --date_field_name \"date\" \\\n",
    "    --freq \"day\"\n"
   ]
  },
  {
   "cell_type": "code",
   "execution_count": 1,
   "id": "08256c99",
   "metadata": {},
   "outputs": [
    {
     "name": "stderr",
     "output_type": "stream",
     "text": [
      "[37536:MainThread](2025-08-11 17:14:18,255) INFO - qlib.Initialization - [config.py:420] - default_conf: client.\n",
      "[37536:MainThread](2025-08-11 17:14:18,767) INFO - qlib.Initialization - [__init__.py:74] - qlib successfully initialized based on client settings.\n",
      "[37536:MainThread](2025-08-11 17:14:18,768) INFO - qlib.Initialization - [__init__.py:76] - data_path={'__DEFAULT_FREQ': WindowsPath('C:/Users/Administrator/Desktop/selfwork/qlib_data/random_data')}\n"
     ]
    },
    {
     "data": {
      "text/plain": [
       "['SH600000', 'SH600001', 'SH600002']"
      ]
     },
     "execution_count": 1,
     "metadata": {},
     "output_type": "execute_result"
    }
   ],
   "source": [
    "import qlib\n",
    "from qlib.data import D\n",
    "\n",
    "# 初始化 Qlib，指定数据路径\n",
    "qlib.init(provider_uri=r\"C:\\Users\\Administrator\\Desktop\\selfwork\\qlib_data\\random_data\")\n",
    "\n",
    "# 获取数据集中包含的股票列表\n",
    "instruments = D.instruments(market=\"all\")\n",
    "\n",
    "D.list_instruments(instruments=instruments, as_list=True)\n",
    "\n"
   ]
  },
  {
   "cell_type": "code",
   "execution_count": 2,
   "id": "914af2d5",
   "metadata": {},
   "outputs": [
    {
     "data": {
      "text/html": [
       "<div>\n",
       "<style scoped>\n",
       "    .dataframe tbody tr th:only-of-type {\n",
       "        vertical-align: middle;\n",
       "    }\n",
       "\n",
       "    .dataframe tbody tr th {\n",
       "        vertical-align: top;\n",
       "    }\n",
       "\n",
       "    .dataframe thead th {\n",
       "        text-align: right;\n",
       "    }\n",
       "</style>\n",
       "<table border=\"1\" class=\"dataframe\">\n",
       "  <thead>\n",
       "    <tr style=\"text-align: right;\">\n",
       "      <th></th>\n",
       "      <th></th>\n",
       "      <th>$close</th>\n",
       "    </tr>\n",
       "    <tr>\n",
       "      <th>instrument</th>\n",
       "      <th>datetime</th>\n",
       "      <th></th>\n",
       "    </tr>\n",
       "  </thead>\n",
       "  <tbody>\n",
       "    <tr>\n",
       "      <th rowspan=\"5\" valign=\"top\">SH600000</th>\n",
       "      <th>2023-01-01</th>\n",
       "      <td>46.720001</td>\n",
       "    </tr>\n",
       "    <tr>\n",
       "      <th>2023-01-02</th>\n",
       "      <td>82.339996</td>\n",
       "    </tr>\n",
       "    <tr>\n",
       "      <th>2023-01-03</th>\n",
       "      <td>33.880001</td>\n",
       "    </tr>\n",
       "    <tr>\n",
       "      <th>2023-01-04</th>\n",
       "      <td>87.650002</td>\n",
       "    </tr>\n",
       "    <tr>\n",
       "      <th>2023-01-05</th>\n",
       "      <td>59.320000</td>\n",
       "    </tr>\n",
       "    <tr>\n",
       "      <th rowspan=\"5\" valign=\"top\">SH600001</th>\n",
       "      <th>2023-01-01</th>\n",
       "      <td>70.120003</td>\n",
       "    </tr>\n",
       "    <tr>\n",
       "      <th>2023-01-02</th>\n",
       "      <td>24.559999</td>\n",
       "    </tr>\n",
       "    <tr>\n",
       "      <th>2023-01-03</th>\n",
       "      <td>85.669998</td>\n",
       "    </tr>\n",
       "    <tr>\n",
       "      <th>2023-01-04</th>\n",
       "      <td>36.779999</td>\n",
       "    </tr>\n",
       "    <tr>\n",
       "      <th>2023-01-05</th>\n",
       "      <td>75.669998</td>\n",
       "    </tr>\n",
       "    <tr>\n",
       "      <th rowspan=\"5\" valign=\"top\">SH600002</th>\n",
       "      <th>2023-01-01</th>\n",
       "      <td>30.120001</td>\n",
       "    </tr>\n",
       "    <tr>\n",
       "      <th>2023-01-02</th>\n",
       "      <td>53.450001</td>\n",
       "    </tr>\n",
       "    <tr>\n",
       "      <th>2023-01-03</th>\n",
       "      <td>81.230003</td>\n",
       "    </tr>\n",
       "    <tr>\n",
       "      <th>2023-01-04</th>\n",
       "      <td>41.230000</td>\n",
       "    </tr>\n",
       "    <tr>\n",
       "      <th>2023-01-05</th>\n",
       "      <td>65.779999</td>\n",
       "    </tr>\n",
       "  </tbody>\n",
       "</table>\n",
       "</div>"
      ],
      "text/plain": [
       "                          $close\n",
       "instrument datetime             \n",
       "SH600000   2023-01-01  46.720001\n",
       "           2023-01-02  82.339996\n",
       "           2023-01-03  33.880001\n",
       "           2023-01-04  87.650002\n",
       "           2023-01-05  59.320000\n",
       "SH600001   2023-01-01  70.120003\n",
       "           2023-01-02  24.559999\n",
       "           2023-01-03  85.669998\n",
       "           2023-01-04  36.779999\n",
       "           2023-01-05  75.669998\n",
       "SH600002   2023-01-01  30.120001\n",
       "           2023-01-02  53.450001\n",
       "           2023-01-03  81.230003\n",
       "           2023-01-04  41.230000\n",
       "           2023-01-05  65.779999"
      ]
     },
     "execution_count": 2,
     "metadata": {},
     "output_type": "execute_result"
    }
   ],
   "source": [
    "df = D.features(D.instruments(\"all\"), [\"$close\"], start_time=\"2023-01-01\", end_time=\"2023-12-31\")\n",
    "df"
   ]
  },
  {
   "cell_type": "code",
   "execution_count": 23,
   "id": "400baec2",
   "metadata": {},
   "outputs": [
    {
     "name": "stderr",
     "output_type": "stream",
     "text": [
      "[25000:MainThread](2025-08-11 17:07:48,856) INFO - qlib.Initialization - [config.py:420] - default_conf: client.\n",
      "[25000:MainThread](2025-08-11 17:07:48,856) INFO - qlib.Initialization - [__init__.py:74] - qlib successfully initialized based on client settings.\n",
      "[25000:MainThread](2025-08-11 17:07:48,856) INFO - qlib.Initialization - [__init__.py:76] - data_path={'__DEFAULT_FREQ': WindowsPath('C:/Users/Administrator/.qlib/qlib_data/random_data')}\n"
     ]
    },
    {
     "name": "stdout",
     "output_type": "stream",
     "text": [
      "交易日历数据:\n",
      "[Timestamp('2023-01-01 00:00:00') Timestamp('2023-01-02 00:00:00')\n",
      " Timestamp('2023-01-03 00:00:00') Timestamp('2023-01-04 00:00:00')\n",
      " Timestamp('2023-01-05 00:00:00')]\n",
      "\n",
      "股票特征数据:\n",
      "                          $close\n",
      "instrument datetime             \n",
      "SH600000   2023-01-01  46.720001\n",
      "           2023-01-02  82.339996\n",
      "           2023-01-03  33.880001\n",
      "           2023-01-04  87.650002\n",
      "           2023-01-05  59.320000\n"
     ]
    }
   ],
   "source": [
    "from qlib.tests.data import GetData\n",
    "import qlib\n",
    "from qlib.data import D\n",
    "\n",
    "# 初始化 Qlib\n",
    "qlib.init(provider_uri=\"C:\\\\Users\\\\Administrator\\\\.qlib\\\\qlib_data\\\\random_data\")\n",
    "\n",
    "# 读取交易日历（检查数据范围）\n",
    "calendar = D.calendar(start_time=\"2023-01-01\", end_time=\"2023-01-10\", freq=\"day\")\n",
    "print(\"交易日历数据:\")\n",
    "print(calendar)\n",
    "\n",
    "# 读取股票特征数据（使用样本中的股票代码）\n",
    "df = D.features(\n",
    "    [\"SH600000\"],  # 使用样本中存在的代码\n",
    "    [\"$close\"],    # 只查询收盘价\n",
    "    start_time=\"2023-01-01\",\n",
    "    end_time=\"2023-01-05\",\n",
    ")\n",
    "print(\"\\n股票特征数据:\")\n",
    "print(df)\n"
   ]
  },
  {
   "cell_type": "code",
   "execution_count": null,
   "id": "77715b0e",
   "metadata": {},
   "outputs": [],
   "source": []
  }
 ],
 "metadata": {
  "kernelspec": {
   "display_name": "qlib_env",
   "language": "python",
   "name": "python3"
  },
  "language_info": {
   "codemirror_mode": {
    "name": "ipython",
    "version": 3
   },
   "file_extension": ".py",
   "mimetype": "text/x-python",
   "name": "python",
   "nbconvert_exporter": "python",
   "pygments_lexer": "ipython3",
   "version": "3.10.18"
  }
 },
 "nbformat": 4,
 "nbformat_minor": 5
}
